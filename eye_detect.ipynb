{
 "cells": [
  {
   "cell_type": "code",
   "execution_count": null,
   "id": "6c06f968",
   "metadata": {},
   "outputs": [],
   "source": [
    "import cv2\n",
    "# 载入人脸识别和眼睛识别的两个xml文件\n",
    "face_xml = cv2.CascadeClassifier('haarcascade_frontalface_default.xml')\n",
    "eye_xml = cv2.CascadeClassifier('haarcascade_eye.xml')\n",
    "# 载入图片\n",
    "img = cv2.imread('/Users/guoyawen/Downloads/眼外观拍照/眼外观拍照/麦粒肿/IMG_6133.JPG')\n",
    "cv2.imshow('src', img)\n",
    "# 灰度处理\n",
    "gray = cv2.cvtColor(img, cv2.COLOR_BGR2GRAY)\n",
    "# 人脸识别\n",
    "face = face_xml.detectMultiScale(gray, 1.3, 2)  # 参数：1、灰度图片， 2、缩放比例， 3、阈值\n",
    "print(\"这张图片中有%d张人脸\" % len(face))\n",
    "# 绘制出识别到的人脸\n",
    "for (x, y, w, h) in face:\n",
    "    cv2.rectangle(img, (x, y), (x+w, y+h), (0, 255, 0), 2)  # 绘制人脸方框\n",
    "    # cv2.imshow('dst', img)\n",
    "    # 在人脸的基础上识别眼睛\n",
    "    face_gray = gray[y:y+h, x:x+w]\n",
    "    face_color = img[y:y+h, x:x+w]\n",
    "    # 眼睛识别\n",
    "    eyes = eye_xml.detectMultiScale(face_gray)\n",
    "    print(\"在这张脸上有%d个眼睛\" % len(eyes))\n",
    "    # 绘制出识别到的眼睛\n",
    "    for (e_x, e_y, e_w, e_h) in eyes:\n",
    "        cv2.rectangle(face_color, (e_x, e_y), (e_x+e_w, e_y+e_h), (0, 255, 0), 2)  # 绘制眼睛方框\n",
    "cv2.imshow('dst', img)\n",
    "cv2.waitKey(0)"
   ]
  },
  {
   "cell_type": "code",
   "execution_count": null,
   "id": "8e412104",
   "metadata": {},
   "outputs": [],
   "source": []
  }
 ],
 "metadata": {
  "kernelspec": {
   "display_name": "Python 3 (ipykernel)",
   "language": "python",
   "name": "python3"
  },
  "language_info": {
   "codemirror_mode": {
    "name": "ipython",
    "version": 3
   },
   "file_extension": ".py",
   "mimetype": "text/x-python",
   "name": "python",
   "nbconvert_exporter": "python",
   "pygments_lexer": "ipython3",
   "version": "3.7.2"
  }
 },
 "nbformat": 4,
 "nbformat_minor": 5
}
